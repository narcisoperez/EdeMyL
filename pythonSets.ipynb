{
  "cells": [
    {
      "cell_type": "markdown",
      "metadata": {
        "id": "view-in-github",
        "colab_type": "text"
      },
      "source": [
        "<a href=\"https://colab.research.google.com/github/narcisoperez/EdeMyL/blob/main/pythonSets.ipynb\" target=\"_parent\"><img src=\"https://colab.research.google.com/assets/colab-badge.svg\" alt=\"Open In Colab\"/></a>"
      ]
    },
    {
      "cell_type": "markdown",
      "metadata": {
        "id": "y2OFGU0vvbgP"
      },
      "source": [
        "# Conjuntos con Python"
      ]
    },
    {
      "cell_type": "markdown",
      "metadata": {
        "id": "LYWWR7tgvbgT"
      },
      "source": [
        "*Esta notebook fue creada originalmente como un blog post por [Raúl E. López Briega](http://relopezbriega.com.ar/) en [Mi blog sobre Python](http://relopezbriega.github.io). El contenido esta bajo la licencia BSD.*"
      ]
    },
    {
      "cell_type": "markdown",
      "metadata": {
        "id": "QNGtlV6HvbgU"
      },
      "source": [
        "<img alt=\"Conjuntos con Python\" title=\"Conjuntos con Python\" src=\"http://relopezbriega.github.io/images/sets.jpg\" width=\"500px\" height=\"400px\">"
      ]
    },
    {
      "cell_type": "markdown",
      "metadata": {
        "collapsed": true,
        "id": "DZ8g8NIHvbgW"
      },
      "source": [
        "## Introducción\n",
        "\n",
        "Una característica notable de los seres humanos es su inherente necesidad y capacidad de agrupar objetos de acuerdo a criterios específicos.\n",
        "La idea de la clasificación de ciertos objetos en grupos similares, o *[conjuntos](https://es.wikipedia.org/wiki/Conjunto)*, es uno de los conceptos más fundamentales de la matemática moderna. La [teoría de conjuntos](https://es.wikipedia.org/wiki/Teor%C3%ADa_de_conjuntos) ha sido el marco unificador para todas las matemáticas desde que el matemático alemán [Georg Cantor](https://es.wikipedia.org/wiki/Georg_Cantor) la formulara alrededor de 1870. Ningún campo de las matemáticas podría describirse hoy en día sin hacer referencia a algún tipo de [conjunto](https://es.wikipedia.org/wiki/Conjunto) abstracto.\n",
        "En términos más generales, el concepto de *membresía* de un [conjunto](https://es.wikipedia.org/wiki/Conjunto), que se encuentra en el corazón de la [teoría de conjuntos](https://es.wikipedia.org/wiki/Teor%C3%ADa_de_conjuntos), explica cómo sentencias con sustantivos y predicados son formulados en nuestro lenguaje, o en cualquier lenguaje abstracto como las matemáticas. Debido a esto, la [teoría de conjuntos](https://es.wikipedia.org/wiki/Teor%C3%ADa_de_conjuntos) está íntimamente ligada a la [lógica](https://es.wikipedia.org/wiki/L%C3%B3gica) y sirve de base para todas las matemáticas.\n",
        "\n",
        "## ¿Qué es un conjunto?\n",
        "\n",
        "**Un [conjunto](https://es.wikipedia.org/wiki/Conjunto) es una colección de objetos distintos, a menudo llamados elementos o miembros**. Existen dos características hacen de los [conjuntos](https://es.wikipedia.org/wiki/Conjunto) algo totalmente distinto a cualquier otra colección de objetos. En primer lugar, un [conjunto](https://es.wikipedia.org/wiki/Conjunto) está siempre \"bien definido\", es decir que si realizamos la pregunta *¿Este objeto particular, se encuentra en esta colección?*; siempre debe existir una respuesta clara por sí o por no basada en una regla o algunos criterios dados. La segunda característica, es que no hay dos miembros de\n",
        "un mismo [conjunto](https://es.wikipedia.org/wiki/Conjunto) que sean exactamente iguales, es decir, que no hay elementos repetidos.\n",
        "Un [conjunto](https://es.wikipedia.org/wiki/Conjunto) puede contener cualquier cosa imaginable, incluyendo números, letras, colores, incluso otros [conjuntos](https://es.wikipedia.org/wiki/Conjunto)!. Sin embargo, ninguno de los objetos del [conjunto](https://es.wikipedia.org/wiki/Conjunto) puede ser el propio [conjunto](https://es.wikipedia.org/wiki/Conjunto). Descartamos esta posibilidad para evitar encontrarnos con la [Paradoja de Russell](https://es.wikipedia.org/wiki/Paradoja_de_Russell), un problema famoso en la lógica matemática desenterrado por el gran lógico británico [Bertrand Russell](https://es.wikipedia.org/wiki/Bertrand_Russell) en 1901.\n",
        "\n",
        "## Notación de Conjuntos\n",
        "\n",
        "Cuando escribimos a los [conjuntos](https://es.wikipedia.org/wiki/Conjunto) utilizamos letras mayúsculas para sus nombres y para representar al [conjunto](https://es.wikipedia.org/wiki/Conjunto) propiamente dicho simplemente listamos sus elementos separándolos por comas y luego englobamos todos estos elementos dentro de un par de llaves. Así, por ejemplo, A = {1,2,3, ..., 10} es el [conjunto](https://es.wikipedia.org/wiki/Conjunto) de los 10 primeros [números naturales](https://es.wikipedia.org/wiki/N%C3%BAmero_natural) o para *contar*, B = {Rojo, Azul, Verde} es el [conjunto](https://es.wikipedia.org/wiki/Conjunto) de colores primarios, N = {1,2,3, ...} es el [conjunto](https://es.wikipedia.org/wiki/Conjunto) de todos los [números naturales](https://es.wikipedia.org/wiki/N%C3%BAmero_natural), y Z = {..., - 3, -2, -1,0,1,2,3, ...}\n",
        "es el [conjunto](https://es.wikipedia.org/wiki/Conjunto) de todos los [números enteros](https://es.wikipedia.org/wiki/N%C3%BAmero_entero). Los puntos suspensivos \"...\" se utilizan para describir el carácter *infinito* de los números en los conjuntos N y Z.\n",
        "\n",
        "También se utiliza el símbolo $ \\in $ para expresar que determina objeto pertenece o es *miembro* de un [conjunto](https://es.wikipedia.org/wiki/Conjunto) y el símbolo $ \\notin $ para indicar que no pertenece a un [conjunto](https://es.wikipedia.org/wiki/Conjunto). Utilizando los ejemplos anteriores, podríamos por ejemplo escribir que $7 \\in A$ y $12 \\notin A$.\n",
        "\n",
        "Dado que muchos [conjuntos](https://es.wikipedia.org/wiki/Conjunto) no se pueden describir listando todos sus miembros, ya que en muchos casos esto es imposible, también se utiliza la mucho más potente notación de constructor de conjuntos o predicado. En esta notación escribimos el conjunto de acuerdo a qué tipos de objetos pertenecen al [conjunto](https://es.wikipedia.org/wiki/Conjunto), que se colocan a la izquierda del símbolo \"|\", que significa \"de tal manera que,\" dentro de las llaves; así como las condiciones que estos objetos deben cumplir para pertenecer al [conjunto](https://es.wikipedia.org/wiki/Conjunto), las cuales se colocan a la derecha de  \"|\" dentro de las llaves. Por ejemplo, el [conjunto](https://es.wikipedia.org/wiki/Conjunto) de los [números racionales](https://es.wikipedia.org/wiki/N%C3%BAmero_racional), o fracciones, que se denota por Q no puede ser descrito por el método de listar todos sus miembros. En su lugar, se define a Q utilizando la notación de predicado de la siguiente manera:\n",
        "$Q=\\{\\frac{p}{q} \\mid p, q \\in Z$  y  $q \\ne 0 \\}$\n",
        "Esto se lee \"Q es el conjunto de todas las fracciones de la forma p sobre q, tal que p y q son números enteros y q no es cero.\" También podríamos escribir al conjunto A de nuestro ejemplo anterior como $A = \\{x \\mid x \\in N$ y\n",
        "$x < 11\\}$.\n",
        "\n",
        "## Conjuntos numéricos\n",
        "\n",
        "Dentro de las matemáticas, los principales [conjuntos](https://es.wikipedia.org/wiki/Conjunto) numéricos que podemos encontrar y que tienen un carácter universal son:\n",
        "\n",
        "* $\\mathbb{N} = \\{1,2,3, ...\\}$ es el conjunto de los [números naturales](https://es.wikipedia.org/wiki/N%C3%BAmero_natural).\n",
        "* $\\mathbb{W} = \\{0,1,2,3, ...\\}$ es el conjunto de los [números enteros](https://es.wikipedia.org/wiki/N%C3%BAmero_entero) positivos.\n",
        "* $\\mathbb{Z} = \\{...,-3,-2,-1,0,1,2,3, ...\\}$ es el conjunto de todos los [números enteros](https://es.wikipedia.org/wiki/N%C3%BAmero_entero).\n",
        "* $\\mathbb{Q} =\\{\\frac{p}{q} \\mid p, q \\in Z$  y  $q \\ne 0 \\}$ es el conjunto de los [números racionales](https://es.wikipedia.org/wiki/N%C3%BAmero_racional).\n",
        "* $\\mathbb{R}$, es el conjunto de los [números reales](https://es.wikipedia.org/wiki/N%C3%BAmero_real). Estos son todos los números que pueden ser colocados en una recta numérica unidimensional que se extiende sin fin tanto en negativo como positivo.\n",
        "* $\\mathbb{I}$, es el conjunto de los [números irracionales](https://es.wikipedia.org/wiki/N%C3%BAmero_irracional). Algunos de los números más importantes en matemáticas pertenecen a este conjunto,incluyendo $\\pi, \\sqrt{2}, e$ y $\\phi$.\n",
        "* $\\mathbb{C}$, es el conjunto de los [números complejos](https://es.wikipedia.org/wiki/N%C3%BAmero_complejo). Estos son los números que contienen una parte real y otra parte imaginaria.\n",
        "\n",
        "## Igualdad entre conjuntos\n",
        "\n",
        "El concepto de igualdad en los [conjuntos](https://es.wikipedia.org/wiki/Conjunto), difiere levemente del clásico concepto de igualdad que solemos tener. Dos conjuntos A y B se dice que son iguales (expresado por A = B), si y sólo si ambos [conjuntos](https://es.wikipedia.org/wiki/Conjunto) tienen exactamente los mismos elementos. Por ejemplo el [conjunto](https://es.wikipedia.org/wiki/Conjunto) A={1,2,3,4} es igual al [conjunto](https://es.wikipedia.org/wiki/Conjunto) B={4,3,2,1}.\n",
        "Un [conjunto](https://es.wikipedia.org/wiki/Conjunto) importante, y que todavía no hemos mencionado es el **[conjunto vacío](https://es.wikipedia.org/wiki/Conjunto_vac%C3%ADo)**, el cual no tiene elementos y por tanto no puede ser igualado con ningún otro [conjunto](https://es.wikipedia.org/wiki/Conjunto). Se expresa con el símbolo $\\emptyset$ o {}.\n",
        "\n",
        "## Cardinalidad\n",
        "\n",
        "La [cardinalidad](https://es.wikipedia.org/wiki/Conjunto#Cardinalidad) de un [conjunto](https://es.wikipedia.org/wiki/Conjunto) A es el número de elementos que pertenecen a A y lo expresamos como n(A). La [cardinalidad](https://es.wikipedia.org/wiki/Conjunto#Cardinalidad) de un [conjunto](https://es.wikipedia.org/wiki/Conjunto) puede ser pensada tambien como una medida de su \"tamaño\". Si la [cardinalidad](https://es.wikipedia.org/wiki/Conjunto#Cardinalidad) de un [conjunto](https://es.wikipedia.org/wiki/Conjunto) es un [número entero](https://es.wikipedia.org/wiki/N%C3%BAmero_entero), entonces el conjunto se dice que es finito. De lo contrario, el conjunto se dice que es infinito. Así por ejemplo la [cardinalidad](https://es.wikipedia.org/wiki/Conjunto#Cardinalidad) del [conjunto](https://es.wikipedia.org/wiki/Conjunto) A={1,2,...,9,10} es 10 y lo expresamos como n(A)=10.\n",
        "\n",
        "## Subconjunto y subconjunto propio\n",
        "\n",
        "Si todos los elementos de un [conjunto](https://es.wikipedia.org/wiki/Conjunto) A son también elementos de otro [conjunto](https://es.wikipedia.org/wiki/Conjunto) B, entonces A se llama un [subconjunto](https://es.wikipedia.org/wiki/Subconjunto) de B y lo expresamos como $A \\subseteq B$. En cierto sentido, se puede\n",
        "pensar al [subconjunto](https://es.wikipedia.org/wiki/Subconjunto) A como dentro, o contenido en el [conjunto](https://es.wikipedia.org/wiki/Conjunto) B.\n",
        "Si un [conjunto](https://es.wikipedia.org/wiki/Conjunto) A es un [subconjunto](https://es.wikipedia.org/wiki/Subconjunto) de B y los dos [conjuntos](https://es.wikipedia.org/wiki/Conjunto) no son iguales, entonces llamamos A un [subconjunto propio](https://es.wikipedia.org/wiki/Subconjunto#Subconjunto_propio) de B y lo expresamos como $A \\subset B$. En este caso, se dice que el [conjunto](https://es.wikipedia.org/wiki/Conjunto) A esta propiamente contenido en B.\n",
        "Algunas propiedades importantes relacionadas con [subconjuntos](https://es.wikipedia.org/wiki/Subconjunto) y [subconjuntos propios](https://es.wikipedia.org/wiki/Subconjunto#Subconjunto_propio) son las siguientes:\n",
        "\n",
        "* Cualquier [conjunto](https://es.wikipedia.org/wiki/Conjunto) A es un [subconjunto](https://es.wikipedia.org/wiki/Subconjunto) de sí mismo. Por lo tanto $A \\subseteq A$. Esto es claramente cierto.\n",
        "* Menos obvio es el hecho de que el [conjunto vacío](https://es.wikipedia.org/wiki/Conjunto_vac%C3%ADo) es un subconjunto de cualquier conjunto A. Por lo tanto $\\emptyset \\subseteq A$. Esta propiedad se prueba a través de la contradicción, ya que si asumimos que existe un [conjunto](https://es.wikipedia.org/wiki/Conjunto) A del que el [conjunto vacío](https://es.wikipedia.org/wiki/Conjunto_vac%C3%ADo) no es un [subconjunto](https://es.wikipedia.org/wiki/Subconjunto), entonces esto quiere decir que el [conjunto vacío](https://es.wikipedia.org/wiki/Conjunto_vac%C3%ADo) debe contener un elemento que no se encuentra en A y esto es absurdo ya que el [conjunto vacío](https://es.wikipedia.org/wiki/Conjunto_vac%C3%ADo) no contiene ningún elemento.\n",
        "* El [conjunto vacío](https://es.wikipedia.org/wiki/Conjunto_vac%C3%ADo) es un [subconjunto propio](https://es.wikipedia.org/wiki/Subconjunto#Subconjunto_propio) de cualquier [conjunto](https://es.wikipedia.org/wiki/Conjunto) A, siempre y cuando A no se también un [conjunto vacío](https://es.wikipedia.org/wiki/Conjunto_vac%C3%ADo).\n",
        "* Para los [conjuntos](https://es.wikipedia.org/wiki/Conjunto) finitos A y B, si $A \\subseteq B$, entonces $n(A) \\leq n(B)$.\n",
        "* De forma similar, para los [conjuntos](https://es.wikipedia.org/wiki/Conjunto) finitos A y B, si $A \\subset B$, entonces $n(A) < n(B)$.\n",
        "\n",
        "\n",
        "## Conjunto potencia\n",
        "\n",
        "El [conjunto potencia](https://es.wikipedia.org/wiki/Conjunto_potencia) de un [conjunto](https://es.wikipedia.org/wiki/Conjunto) A, expresado por $P_{A}$, es el [conjunto](https://es.wikipedia.org/wiki/Conjunto) formado por todos los distintos [subconjuntos](https://es.wikipedia.org/wiki/Subconjunto) de A. Así por ejemplo el [conjunto potencia](https://es.wikipedia.org/wiki/Conjunto_potencia) del [conjunto](https://es.wikipedia.org/wiki/Conjunto) $A=\\{1,2,3\\}$; va a ser igual a $P_{A}=\\{\\emptyset,\\{1\\},\\{2\\},\\{3\\},\\{1,2\\},\\{2,3\\}, \\{1,3\\},\\{1,2,3\\}\\}$.\n",
        "\n",
        "Un teorema importante de la [teoría de conjuntos](https://es.wikipedia.org/wiki/Teor%C3%ADa_de_conjuntos) establece que si A es un [conjunto](https://es.wikipedia.org/wiki/Conjunto) con k elementos, es decir que n(A) = k; entonces el [conjunto potencia](https://es.wikipedia.org/wiki/Conjunto_potencia) de A tiene exactamente $2^k$ elementos. Escribimos esto como $n(P_{A}) = 2^k$. En nuestro ejemplo anterior podemos ver que n(A)=3, por lo tanto $n(P_{A}) = 2^3$, lo que es igual a los 8 elementos que vimos que tiene el [conjunto potencia](https://es.wikipedia.org/wiki/Conjunto_potencia) de A.\n",
        "\n",
        "## Algebra de conjuntos\n",
        "\n",
        "El [álgebra de conjuntos](https://es.wikipedia.org/wiki/%C3%81lgebra_de_conjuntos) es el estudio de las operaciones básicas que podemos realizar con los [conjuntos](https://es.wikipedia.org/wiki/Conjunto). Las operaciones básicas del álgebra de conjuntos son:\n",
        "\n",
        "* **Unión**. La [unión](https://es.wikipedia.org/wiki/Uni%C3%B3n_de_conjuntos) de dos conjuntos A y B es el conjunto $A \\cup B$ que contiene todos los elementos de A y de B.\n",
        "<img src=\"https://upload.wikimedia.org/wikipedia/commons/thumb/3/32/SetUnion.svg/442px-SetUnion.svg.png\" width=300, height=300>\n",
        "\n",
        "* **Intersección**. La [intersección](https://es.wikipedia.org/wiki/Intersecci%C3%B3n_de_conjuntos) de dos conjuntos A y B es el conjunto $A \\cap B$ que contiene todos los elementos comunes de A y B.\n",
        "<img src=\"https://upload.wikimedia.org/wikipedia/commons/thumb/c/cb/SetIntersection.svg/442px-SetIntersection.svg.png\" width=300, height=300>\n",
        "\n",
        "* **Diferencia**. La [diferencia](https://es.wikipedia.org/wiki/Diferencia_de_conjuntos) entre dos conjuntos A y B es el conjunto $A \\setminus B$ que contiene todos los elementos de A que no pertenecen a B.\n",
        "<img src=\"https://upload.wikimedia.org/wikipedia/commons/thumb/e/ec/SetDifferenceA.svg/442px-SetDifferenceA.svg.png\" width=300, height=300>\n",
        "\n",
        "* **Complemento**. El [complemento](https://es.wikipedia.org/wiki/Complemento_de_un_conjunto) de un conjunto A es el conjunto $A^∁$ que contiene todos los elementos que no pertenecen a A.\n",
        "<img src=\"https://upload.wikimedia.org/wikipedia/commons/thumb/b/b9/SetComplement.svg/451px-SetComplement.svg.png\" width=300, height=300>\n",
        "\n",
        "* **Producto cartesiano**. El [producto cartesiano](https://es.wikipedia.org/wiki/Producto_cartesiano) de dos conjuntos A y B es el conjunto $A \\times B$ que contiene todos los pares ordenados (a, b) cuyo primer elemento pertenece a A y su segundo elemento pertenece a B.\n",
        "\n",
        "\n",
        "## Conjuntos con Python\n",
        "\n",
        "Luego de todo este repaso por los fundamentos de la [teoría de conjuntos](https://es.wikipedia.org/wiki/Teor%C3%ADa_de_conjuntos), es tiempo de ver como podemos utilizar a los [conjuntos](https://es.wikipedia.org/wiki/Conjunto) dentro de [Python](https://www.python.org/); ya que el lenguaje trae como una de sus [estructuras de datos](https://es.wikipedia.org/wiki/Estructura_de_datos) por defecto a los [conjuntos](https://es.wikipedia.org/wiki/Conjunto). También veremos que podemos utilizar el *constructor* `FiniteSet` que nos proporciona [sympy](http://www.sympy.org/es/), el cual tiene ciertas ventajas sobre la versión por defecto de [Python](https://www.python.org/)."
      ]
    },
    {
      "cell_type": "code",
      "execution_count": null,
      "metadata": {
        "colab": {
          "base_uri": "https://localhost:8080/"
        },
        "id": "cQnN6Y-JvbgZ",
        "outputId": "fb814db3-8383-4290-dd0d-40c57616645e"
      },
      "outputs": [
        {
          "output_type": "execute_result",
          "data": {
            "text/plain": [
              "{1, 2, 3, 4, 'A'}"
            ]
          },
          "metadata": {},
          "execution_count": 8
        }
      ],
      "source": [
        "# Creando un conjunto en python\n",
        "A = {1,2,3, 4, \"A\"}\n",
        "A"
      ]
    },
    {
      "cell_type": "code",
      "source": [
        "type(A)"
      ],
      "metadata": {
        "colab": {
          "base_uri": "https://localhost:8080/"
        },
        "id": "ilEfaJ2O0iV9",
        "outputId": "6e182183-3725-4a6f-c239-8924461d810a"
      },
      "execution_count": null,
      "outputs": [
        {
          "output_type": "execute_result",
          "data": {
            "text/plain": [
              "set"
            ]
          },
          "metadata": {},
          "execution_count": 3
        }
      ]
    },
    {
      "cell_type": "code",
      "execution_count": null,
      "metadata": {
        "colab": {
          "base_uri": "https://localhost:8080/"
        },
        "id": "Z1YopgJovbgb",
        "outputId": "03003346-1465-4755-87fa-59ba52197dec"
      },
      "outputs": [
        {
          "output_type": "execute_result",
          "data": {
            "text/plain": [
              "{1, 'A', 'bananas', 'limones', 'manzanas', 'naranjas'}"
            ]
          },
          "metadata": {},
          "execution_count": 11
        }
      ],
      "source": [
        "# Creando un conjunto a partir de una lista\n",
        "lista = [\"bananas\", \"manzanas\", \"naranjas\", \"limones\", 1,\"A\"]\n",
        "B = set(lista)\n",
        "B"
      ]
    },
    {
      "cell_type": "code",
      "source": [
        "len(lista)"
      ],
      "metadata": {
        "colab": {
          "base_uri": "https://localhost:8080/"
        },
        "id": "_WS73DKy455C",
        "outputId": "6fef86bc-a89c-4405-9026-0539ca3997a2"
      },
      "execution_count": null,
      "outputs": [
        {
          "output_type": "execute_result",
          "data": {
            "text/plain": [
              "6"
            ]
          },
          "metadata": {},
          "execution_count": 12
        }
      ]
    },
    {
      "cell_type": "code",
      "source": [
        "type(lista)"
      ],
      "metadata": {
        "colab": {
          "base_uri": "https://localhost:8080/"
        },
        "id": "ZvRXV3vj3kZW",
        "outputId": "0505f443-dca3-4b5d-eca4-d37f7b04daa6"
      },
      "execution_count": null,
      "outputs": [
        {
          "output_type": "execute_result",
          "data": {
            "text/plain": [
              "list"
            ]
          },
          "metadata": {},
          "execution_count": 5
        }
      ]
    },
    {
      "cell_type": "code",
      "execution_count": null,
      "metadata": {
        "colab": {
          "base_uri": "https://localhost:8080/"
        },
        "id": "pfWTPAx1vbgc",
        "outputId": "2a4e60ff-7b63-4e69-bb13-dbdf509a5197"
      },
      "outputs": [
        {
          "output_type": "execute_result",
          "data": {
            "text/plain": [
              "{'bananas', 'limones', 'manzanas', 'naranjas'}"
            ]
          },
          "metadata": {},
          "execution_count": 6
        }
      ],
      "source": [
        "# Los conjuntos eliminan los elementos duplicados\n",
        "lista = [\"bananas\", \"manzanas\", \"naranjas\", \"limones\",\n",
        "        \"bananas\", \"bananas\", \"limones\", \"naranjas\"]\n",
        "B = set(lista)\n",
        "B"
      ]
    },
    {
      "cell_type": "code",
      "execution_count": null,
      "metadata": {
        "id": "RcljvLapvbge",
        "outputId": "7b604fd9-0eb5-4395-8f29-65a159e3a731"
      },
      "outputs": [
        {
          "data": {
            "text/plain": [
              "set()"
            ]
          },
          "execution_count": 4,
          "metadata": {},
          "output_type": "execute_result"
        }
      ],
      "source": [
        "# Creando el conjunto vacío\n",
        "O = set()\n",
        "O"
      ]
    },
    {
      "cell_type": "code",
      "execution_count": null,
      "metadata": {
        "colab": {
          "base_uri": "https://localhost:8080/"
        },
        "id": "8gI1Ygvwvbgf",
        "outputId": "99650fc7-7778-424a-eb43-4cb82dd104eb"
      },
      "outputs": [
        {
          "output_type": "stream",
          "name": "stdout",
          "text": [
            "La cardinalidad del conjunto A = {1, 2, 3, 4, 'A'} es 5\n"
          ]
        }
      ],
      "source": [
        "# Cardinalidad de un conjunto con len().\n",
        "print(\"La cardinalidad del conjunto A = {0} es {1}\".format(A,len(A)))"
      ]
    },
    {
      "cell_type": "code",
      "execution_count": null,
      "metadata": {
        "colab": {
          "base_uri": "https://localhost:8080/"
        },
        "id": "h9nxkIEBvbgh",
        "outputId": "8b5451f3-7cae-4189-e144-81187d410a9f"
      },
      "outputs": [
        {
          "output_type": "execute_result",
          "data": {
            "text/plain": [
              "False"
            ]
          },
          "metadata": {},
          "execution_count": 14
        }
      ],
      "source": [
        "# comprobando membresía\n",
        "20 in A"
      ]
    },
    {
      "cell_type": "code",
      "execution_count": null,
      "metadata": {
        "colab": {
          "base_uri": "https://localhost:8080/"
        },
        "id": "c7wwiD5fvbgi",
        "outputId": "27eb03f4-9800-4bab-88ca-aa89bfec29b6"
      },
      "outputs": [
        {
          "output_type": "execute_result",
          "data": {
            "text/plain": [
              "True"
            ]
          },
          "metadata": {},
          "execution_count": 15
        }
      ],
      "source": [
        "# Igualdad entre conjuntos. El orden de los elementos no importa.\n",
        "A = {1,2,3,4}\n",
        "B = {4,2,3,1}\n",
        "A == B"
      ]
    },
    {
      "cell_type": "code",
      "source": [],
      "metadata": {
        "id": "f9FWT5Nr5g1I"
      },
      "execution_count": null,
      "outputs": []
    },
    {
      "cell_type": "code",
      "execution_count": null,
      "metadata": {
        "id": "d7-Vg3eDvbgj",
        "outputId": "d6ccf456-7dbd-4311-9056-fc86d51b4aa6"
      },
      "outputs": [
        {
          "data": {
            "text/plain": [
              "True"
            ]
          },
          "execution_count": 8,
          "metadata": {},
          "output_type": "execute_result"
        }
      ],
      "source": [
        "# Subconjunto. No hay distincion entre subconjunto y propio\n",
        "# para el conjunto por defecto de python.\n",
        "A = {1,2,3}\n",
        "B = {1,2,3,4,5}\n",
        "A.issubset(B)"
      ]
    },
    {
      "cell_type": "code",
      "source": [],
      "metadata": {
        "id": "YKMuVyZ35WgU"
      },
      "execution_count": null,
      "outputs": []
    },
    {
      "cell_type": "code",
      "execution_count": null,
      "metadata": {
        "id": "rz9W4ek9vbgk",
        "outputId": "a47e8d48-7ad2-4c38-dea5-b9c16434e4b0"
      },
      "outputs": [
        {
          "data": {
            "text/plain": [
              "True"
            ]
          },
          "execution_count": 9,
          "metadata": {},
          "output_type": "execute_result"
        }
      ],
      "source": [
        "# Subconjunto propio\n",
        "A.issubset(B) and A != B"
      ]
    },
    {
      "cell_type": "code",
      "execution_count": null,
      "metadata": {
        "colab": {
          "base_uri": "https://localhost:8080/"
        },
        "id": "OU_WYUJzvbgl",
        "outputId": "e49aa8eb-7aa5-4c24-a936-5b6de7b4ffe1"
      },
      "outputs": [
        {
          "output_type": "stream",
          "name": "stdout",
          "text": [
            "{1, 2, 3, 4, 5, 6, 7, 8, 9, 10}\n"
          ]
        }
      ],
      "source": [
        "# Union de conjuntos\n",
        "A = {1,2,3,4,5}\n",
        "B = {4,5,6,7,8,9,10}\n",
        "C = A.union(B)\n",
        "print(C)"
      ]
    },
    {
      "cell_type": "code",
      "execution_count": null,
      "metadata": {
        "id": "taf_q7Sbvbgl",
        "outputId": "9c0dd6c5-144f-4c84-acb7-eeb02ee7e738"
      },
      "outputs": [
        {
          "data": {
            "text/plain": [
              "{4, 5}"
            ]
          },
          "execution_count": 11,
          "metadata": {},
          "output_type": "execute_result"
        }
      ],
      "source": [
        "# Intersección de conjuntos\n",
        "A.intersection(B)"
      ]
    },
    {
      "cell_type": "code",
      "execution_count": null,
      "metadata": {
        "id": "83nXfbAAvbgm",
        "outputId": "6495b019-8bcd-4e75-bdb2-61c0529c1c06"
      },
      "outputs": [
        {
          "data": {
            "text/plain": [
              "{1, 2, 3}"
            ]
          },
          "execution_count": 12,
          "metadata": {},
          "output_type": "execute_result"
        }
      ],
      "source": [
        "# Diferencia entre conjuntos\n",
        "A - B"
      ]
    },
    {
      "cell_type": "code",
      "execution_count": null,
      "metadata": {
        "id": "RyQBs5Lgvbgn",
        "outputId": "1004d9c6-ba15-4708-8f5f-c590f3ed8cbb"
      },
      "outputs": [
        {
          "data": {
            "text/plain": [
              "{6, 7, 8, 9, 10}"
            ]
          },
          "execution_count": 13,
          "metadata": {},
          "output_type": "execute_result"
        }
      ],
      "source": [
        "B - A"
      ]
    },
    {
      "cell_type": "code",
      "execution_count": null,
      "metadata": {
        "id": "LGuTtF7Svbgo",
        "outputId": "9b8ac066-62aa-4638-b721-8bdfaceb89f6"
      },
      "outputs": [
        {
          "data": {
            "text/plain": [
              "{1, 2, 3}"
            ]
          },
          "execution_count": 14,
          "metadata": {},
          "output_type": "execute_result"
        }
      ],
      "source": [
        "# Utilizando FiniteSet de sympy\n",
        "from sympy import FiniteSet\n",
        "C = FiniteSet(1, 2, 3)\n",
        "C"
      ]
    },
    {
      "cell_type": "code",
      "execution_count": null,
      "metadata": {
        "id": "dHe6tWy_vbgp",
        "outputId": "3c5b82d5-158f-4593-8fea-9bbd18d3ba69"
      },
      "outputs": [
        {
          "data": {
            "text/plain": [
              "{EmptySet(), {1}, {2}, {3}, {1, 2}, {1, 3}, {2, 3}, {1, 2, 3}}"
            ]
          },
          "execution_count": 15,
          "metadata": {},
          "output_type": "execute_result"
        }
      ],
      "source": [
        "# Generando el conjunto potencia. Esto no se puede\n",
        "# hacer utilizando el conjunto por defecto de python.\n",
        "C.powerset()"
      ]
    },
    {
      "cell_type": "code",
      "source": [
        "type(C)"
      ],
      "metadata": {
        "id": "LnGH7I4z6ry8",
        "outputId": "bbc4b4a4-2889-40f4-c3de-98598c4c2d52",
        "colab": {
          "base_uri": "https://localhost:8080/"
        }
      },
      "execution_count": null,
      "outputs": [
        {
          "output_type": "execute_result",
          "data": {
            "text/plain": [
              "set"
            ]
          },
          "metadata": {},
          "execution_count": 17
        }
      ]
    },
    {
      "cell_type": "code",
      "execution_count": null,
      "metadata": {
        "id": "0IBeMqcMvbgp",
        "outputId": "56c4b06e-6445-4a52-94c4-210d0fb40e60"
      },
      "outputs": [
        {
          "name": "stdout",
          "output_type": "stream",
          "text": [
            "La cardinalidad del conjunto potencia del conjunto C = {1, 2, 3} es 8\n"
          ]
        }
      ],
      "source": [
        "# Cardinalidad\n",
        "print(\"La cardinalidad del conjunto potencia del conjunto C = {0} es {1}\".\n",
        "     format(C, len(C.powerset())))"
      ]
    },
    {
      "cell_type": "code",
      "execution_count": null,
      "metadata": {
        "id": "E9vsHb07vbgq",
        "outputId": "5faa8990-9bcd-4b53-e5aa-ab5cb1e5d3cc"
      },
      "outputs": [
        {
          "data": {
            "text/plain": [
              "True"
            ]
          },
          "execution_count": 17,
          "metadata": {},
          "output_type": "execute_result"
        }
      ],
      "source": [
        "# Igualdad\n",
        "A = FiniteSet(1, 2, 3)\n",
        "B = FiniteSet(1, 3, 2)\n",
        "A == B"
      ]
    },
    {
      "cell_type": "code",
      "execution_count": null,
      "metadata": {
        "id": "A76odOSuvbgq",
        "outputId": "912d0160-4346-4f99-9ec2-66ef98cb4c68"
      },
      "outputs": [
        {
          "data": {
            "text/plain": [
              "False"
            ]
          },
          "execution_count": 18,
          "metadata": {},
          "output_type": "execute_result"
        }
      ],
      "source": [
        "A = FiniteSet(1, 2, 3)\n",
        "B = FiniteSet(1, 3, 4)\n",
        "A == B"
      ]
    },
    {
      "cell_type": "code",
      "execution_count": null,
      "metadata": {
        "id": "CcinX25Pvbgs",
        "outputId": "73f0642c-ea65-4f6e-b494-fc99d8736f34"
      },
      "outputs": [
        {
          "data": {
            "text/plain": [
              "True"
            ]
          },
          "execution_count": 19,
          "metadata": {},
          "output_type": "execute_result"
        }
      ],
      "source": [
        "# Subconjunto y subconjunto propio\n",
        "A = FiniteSet(1,2,3)\n",
        "B = FiniteSet(1,2,3,4,5)\n",
        "A.is_subset(B)"
      ]
    },
    {
      "cell_type": "code",
      "execution_count": null,
      "metadata": {
        "id": "QYg3cEkwvbgs",
        "outputId": "84ca22b1-d1c7-48e3-9fed-ad91fd0bafdd"
      },
      "outputs": [
        {
          "data": {
            "text/plain": [
              "True"
            ]
          },
          "execution_count": 20,
          "metadata": {},
          "output_type": "execute_result"
        }
      ],
      "source": [
        "A.is_proper_subset(B)"
      ]
    },
    {
      "cell_type": "code",
      "execution_count": null,
      "metadata": {
        "id": "-cZBgLH5vbgs",
        "outputId": "f3fecdf3-d6cb-45aa-8dbf-1ebd1cbd3d63"
      },
      "outputs": [
        {
          "data": {
            "text/plain": [
              "False"
            ]
          },
          "execution_count": 21,
          "metadata": {},
          "output_type": "execute_result"
        }
      ],
      "source": [
        "# A == B. El test de subconjunto propio da falso\n",
        "B = FiniteSet(2,1,3)\n",
        "A.is_proper_subset(B)"
      ]
    },
    {
      "cell_type": "code",
      "execution_count": null,
      "metadata": {
        "id": "MBzGZlC3vbgu",
        "outputId": "46f40787-a967-469f-eb8f-05301b1867ee"
      },
      "outputs": [
        {
          "data": {
            "text/plain": [
              "{1, 2, 3, 4, 6}"
            ]
          },
          "execution_count": 22,
          "metadata": {},
          "output_type": "execute_result"
        }
      ],
      "source": [
        "# Union de dos conjuntos\n",
        "A = FiniteSet(1, 2, 3)\n",
        "B = FiniteSet(2, 4, 6)\n",
        "A.union(B)"
      ]
    },
    {
      "cell_type": "code",
      "execution_count": null,
      "metadata": {
        "id": "TXcKmwfTvbgv",
        "outputId": "c718b5b9-081b-408d-e60b-2cffd08e7cef"
      },
      "outputs": [
        {
          "data": {
            "text/plain": [
              "{2}"
            ]
          },
          "execution_count": 23,
          "metadata": {},
          "output_type": "execute_result"
        }
      ],
      "source": [
        "# Interseccion de dos conjuntos\n",
        "A = FiniteSet(1, 2)\n",
        "B = FiniteSet(2, 3)\n",
        "A.intersect(B)"
      ]
    },
    {
      "cell_type": "code",
      "execution_count": null,
      "metadata": {
        "id": "LvASLzCKvbgw",
        "outputId": "df9d305b-fc5e-4821-a36e-a4ff434747b5"
      },
      "outputs": [
        {
          "data": {
            "text/plain": [
              "{1}"
            ]
          },
          "execution_count": 24,
          "metadata": {},
          "output_type": "execute_result"
        }
      ],
      "source": [
        "# Diferencia entre conjuntos\n",
        "A - B"
      ]
    },
    {
      "cell_type": "code",
      "execution_count": null,
      "metadata": {
        "id": "G4642My-vbgw",
        "outputId": "0720a453-a662-40c1-c5a3-31f781ba55b7"
      },
      "outputs": [
        {
          "data": {
            "text/plain": [
              "{1, 2} x {3, 4}"
            ]
          },
          "execution_count": 25,
          "metadata": {},
          "output_type": "execute_result"
        }
      ],
      "source": [
        "# Calculando el producto cartesiano. Con el conjunto por\n",
        "# defecto de python no podemos hacer esto con el operador *\n",
        "A = FiniteSet(1, 2)\n",
        "B = FiniteSet(3, 4)\n",
        "P = A * B\n",
        "P"
      ]
    },
    {
      "cell_type": "code",
      "execution_count": null,
      "metadata": {
        "id": "FM13u_w5vbgw",
        "outputId": "2aff8c2c-09bc-45c6-d535-8907ae23ef7e"
      },
      "outputs": [
        {
          "name": "stdout",
          "output_type": "stream",
          "text": [
            "(1, 3)\n",
            "(1, 4)\n",
            "(2, 3)\n",
            "(2, 4)\n"
          ]
        }
      ],
      "source": [
        "for elem in P:\n",
        "    print(elem)"
      ]
    },
    {
      "cell_type": "code",
      "execution_count": null,
      "metadata": {
        "id": "T86dQOETvbgw",
        "outputId": "ea6a6082-ceb3-42cd-caa5-8ee0cd791414"
      },
      "outputs": [
        {
          "data": {
            "text/plain": [
              "{1, 2, 3, 4} x {1, 2, 3, 4}"
            ]
          },
          "execution_count": 27,
          "metadata": {},
          "output_type": "execute_result"
        }
      ],
      "source": [
        "# Elevar a la n potencia un conjunto. Calcula el n\n",
        "# producto cartesiano del mismo conjunto.\n",
        "A = FiniteSet(1, 2, 3, 4)\n",
        "P2 = A ** 2\n",
        "P2"
      ]
    },
    {
      "cell_type": "code",
      "execution_count": null,
      "metadata": {
        "id": "ibl7reGfvbgx",
        "outputId": "fe1b9c12-72e5-4e79-cde9-9776f46e580c"
      },
      "outputs": [
        {
          "data": {
            "text/plain": [
              "{1, 2, 3, 4} x {1, 2, 3, 4} x {1, 2, 3, 4}"
            ]
          },
          "execution_count": 28,
          "metadata": {},
          "output_type": "execute_result"
        }
      ],
      "source": [
        "P3 = A ** 3\n",
        "P3"
      ]
    },
    {
      "cell_type": "code",
      "execution_count": null,
      "metadata": {
        "id": "9iRJ49Ddvbgy",
        "outputId": "ca5ec22a-5955-427a-f417-054e9e39a6c5"
      },
      "outputs": [
        {
          "name": "stdout",
          "output_type": "stream",
          "text": [
            "(1, 1, 1)\n",
            "(1, 1, 2)\n",
            "(1, 1, 3)\n",
            "(1, 1, 4)\n",
            "(1, 2, 1)\n",
            "(1, 2, 2)\n",
            "(1, 2, 3)\n",
            "(1, 2, 4)\n",
            "(1, 3, 1)\n",
            "(1, 3, 2)\n",
            "(1, 3, 3)\n",
            "(1, 3, 4)\n",
            "(1, 4, 1)\n",
            "(1, 4, 2)\n",
            "(1, 4, 3)\n",
            "(1, 4, 4)\n",
            "(2, 1, 1)\n",
            "(2, 1, 2)\n",
            "(2, 1, 3)\n",
            "(2, 1, 4)\n",
            "(2, 2, 1)\n",
            "(2, 2, 2)\n",
            "(2, 2, 3)\n",
            "(2, 2, 4)\n",
            "(2, 3, 1)\n",
            "(2, 3, 2)\n",
            "(2, 3, 3)\n",
            "(2, 3, 4)\n",
            "(2, 4, 1)\n",
            "(2, 4, 2)\n",
            "(2, 4, 3)\n",
            "(2, 4, 4)\n",
            "(3, 1, 1)\n",
            "(3, 1, 2)\n",
            "(3, 1, 3)\n",
            "(3, 1, 4)\n",
            "(3, 2, 1)\n",
            "(3, 2, 2)\n",
            "(3, 2, 3)\n",
            "(3, 2, 4)\n",
            "(3, 3, 1)\n",
            "(3, 3, 2)\n",
            "(3, 3, 3)\n",
            "(3, 3, 4)\n",
            "(3, 4, 1)\n",
            "(3, 4, 2)\n",
            "(3, 4, 3)\n",
            "(3, 4, 4)\n",
            "(4, 1, 1)\n",
            "(4, 1, 2)\n",
            "(4, 1, 3)\n",
            "(4, 1, 4)\n",
            "(4, 2, 1)\n",
            "(4, 2, 2)\n",
            "(4, 2, 3)\n",
            "(4, 2, 4)\n",
            "(4, 3, 1)\n",
            "(4, 3, 2)\n",
            "(4, 3, 3)\n",
            "(4, 3, 4)\n",
            "(4, 4, 1)\n",
            "(4, 4, 2)\n",
            "(4, 4, 3)\n",
            "(4, 4, 4)\n"
          ]
        }
      ],
      "source": [
        "for elem in P3:\n",
        "    print(elem)"
      ]
    },
    {
      "cell_type": "code",
      "execution_count": null,
      "metadata": {
        "collapsed": true,
        "id": "GvpVfF64vbgz"
      },
      "outputs": [],
      "source": [
        "# graficos embebidos\n",
        "%matplotlib inline"
      ]
    },
    {
      "cell_type": "code",
      "execution_count": null,
      "metadata": {
        "id": "pLDP9lb7vbg0",
        "outputId": "8cc45fc6-2f76-4320-e881-018078849c9e"
      },
      "outputs": [
        {
          "data": {
            "image/png": "[encoded data removed]",
            "text/plain": [
              "<matplotlib.figure.Figure at 0x7f58ba27c588>"
            ]
          },
          "metadata": {},
          "output_type": "display_data"
        }
      ],
      "source": [
        "# Dibujanto el diagrama de venn de 2 conjuntos\n",
        "from matplotlib_venn import venn2, venn2_circles\n",
        "import matplotlib.pyplot as plt\n",
        "\n",
        "A = FiniteSet(1, 3, 5, 7, 9, 11, 13, 15, 17, 19)\n",
        "B = FiniteSet(2, 3, 5, 7, 11, 13, 17, 19, 8)\n",
        "\n",
        "plt.figure(figsize=(6, 8))\n",
        "v = venn2(subsets=[A, B], set_labels=('A', 'B'))\n",
        "v.get_label_by_id('10').set_text(A - B)\n",
        "v.get_label_by_id('11').set_text(A.intersection(B))\n",
        "v.get_label_by_id('01').set_text(B - A)\n",
        "c = venn2_circles(subsets=[A, B], linestyle='dashed')\n",
        "c[0].set_ls('solid')\n",
        "plt.show()"
      ]
    },
    {
      "cell_type": "markdown",
      "metadata": {
        "id": "O0n_RbOTvbg1"
      },
      "source": [
        "Además de las aplicaciones que pueden tener los [conjuntos](https://es.wikipedia.org/wiki/Conjunto) de [Python](https://www.python.org/) en matemáticas, los mismos también pueden ser una [estructura de datos](https://es.wikipedia.org/wiki/Estructura_de_datos) poderosa y ayudarnos a resolver varios problemas de programación en forma muy sencilla. A tenerlos en cuenta!\n",
        "\n",
        "Con esto termino este artículo; espero que les haya gustado y les sea de utilidad."
      ]
    },
    {
      "cell_type": "markdown",
      "metadata": {
        "id": "L1-oaUdsvbg1"
      },
      "source": [
        "Saludos!\n",
        "\n",
        "*Este post fue escrito utilizando IPython notebook. Pueden descargar este [notebook](https://github.com/relopezbriega/relopezbriega.github.io/blob/master/downloads/pythonSets.ipynb) o ver su version estática en [nbviewer](http://nbviewer.ipython.org/github/relopezbriega/relopezbriega.github.io/blob/master/downloads/pythonSets.ipynb).*"
      ]
    }
  ],
  "metadata": {
    "kernelspec": {
      "display_name": "Python 3",
      "language": "python",
      "name": "python3"
    },
    "language_info": {
      "codemirror_mode": {
        "name": "ipython",
        "version": 3
      },
      "file_extension": ".py",
      "mimetype": "text/x-python",
      "name": "python",
      "nbconvert_exporter": "python",
      "pygments_lexer": "ipython3",
      "version": "3.4.3+"
    },
    "colab": {
      "provenance": [],
      "include_colab_link": true
    }
  },
  "nbformat": 4,
  "nbformat_minor": 0
}